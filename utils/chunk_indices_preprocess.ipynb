{
 "cells": [
  {
   "cell_type": "code",
   "execution_count": 1,
   "id": "b5a5cca3-e1e5-4e90-b524-01ae7d25687f",
   "metadata": {},
   "outputs": [],
   "source": [
    "import h5py"
   ]
  },
  {
   "cell_type": "code",
   "execution_count": 9,
   "id": "d1fe542f-44a6-4c71-a79f-13495ec78464",
   "metadata": {},
   "outputs": [
    {
     "name": "stdout",
     "output_type": "stream",
     "text": [
      "<KeysViewHDF5 ['contacts', 'filenames', 'label', 'lengths']>\n"
     ]
    }
   ],
   "source": [
    "with h5py.File('/ccn2/u/thekej/contact_data/test_contact_data.hdf5', 'r') as f:\n",
    "    data_contact = f['label'][:]\n",
    "    filenames_contact = [s.decode() for s in f['filenames']]\n",
    "    lenghts_contact = f['lengths'][:]\n",
    "    print(f.keys())"
   ]
  },
  {
   "cell_type": "code",
   "execution_count": 10,
   "id": "ad46f427-ca5d-4886-bfef-e3d530f7be69",
   "metadata": {},
   "outputs": [
    {
     "name": "stdout",
     "output_type": "stream",
     "text": [
      "<KeysViewHDF5 ['contacts', 'features', 'filenames', 'label']>\n"
     ]
    }
   ],
   "source": [
    "with h5py.File('/ccn2/u/thekej/models/3d_point_cloud/ocd/test_features.hdf5','r') as hf:\n",
    "    print(hf.keys())\n",
    "    filenames = [h.decode().split('/')[-1][:-5] for h in hf['filenames'][:]]"
   ]
  },
  {
   "cell_type": "code",
   "execution_count": 11,
   "id": "3a380b1c-4572-41ca-be06-4607a892b5b9",
   "metadata": {},
   "outputs": [],
   "source": [
    "indices, label = [], []\n",
    "for i, f in enumerate(filenames):\n",
    "    index = filenames_contact.index(f)\n",
    "    length = lenghts_contact[index]\n",
    "    for l in range(0, length, 15):\n",
    "        if l + 15 < length and l + 15 <= 225:\n",
    "            indices += [(i, l)]\n",
    "            local_label = data_contact[index, l:l+15]\n",
    "            local_label = local_label.sum(0) > 0\n",
    "            label += [local_label]\n"
   ]
  },
  {
   "cell_type": "code",
   "execution_count": 17,
   "id": "471f8b7b-0065-4351-bade-ccb2b9b4a096",
   "metadata": {},
   "outputs": [
    {
     "data": {
      "text/plain": [
       "(3064, 14018, (0, 150))"
      ]
     },
     "execution_count": 17,
     "metadata": {},
     "output_type": "execute_result"
    }
   ],
   "source": [
    "sum(label), len(label), indices[10]"
   ]
  },
  {
   "cell_type": "code",
   "execution_count": 13,
   "id": "a901a1ad-0321-4628-b840-82c3d3d70e2f",
   "metadata": {},
   "outputs": [
    {
     "name": "stdout",
     "output_type": "stream",
     "text": [
      "Sampled Indices: [ 8310  1584  4114 ...  5043  8703 13126]\n"
     ]
    }
   ],
   "source": [
    "import numpy as np\n",
    "\n",
    "# Original array of True and False\n",
    "array = np.array(label)\n",
    "\n",
    "# Find indices of True and False using np.argwhere\n",
    "indices_trues = np.argwhere(array == True).flatten()\n",
    "indices_falses = np.argwhere(array == False).flatten()\n",
    "\n",
    "# Determine the minimum count of True and False to ensure equal sampling\n",
    "min_count = min(len(indices_trues), len(indices_falses))\n",
    "\n",
    "# Sample indices for True and False\n",
    "sampled_indices_trues = np.random.choice(indices_trues, min_count, replace=False)\n",
    "sampled_indices_falses = np.random.choice(indices_falses, min_count, replace=False)\n",
    "\n",
    "# Combine sampled indices\n",
    "sampled_indices = np.concatenate((sampled_indices_trues, sampled_indices_falses))\n",
    "\n",
    "# Shuffle the combined indices to mix indices of True and False\n",
    "np.random.shuffle(sampled_indices)\n",
    "\n",
    "# Output the shuffled indices\n",
    "print(\"Sampled Indices:\", sampled_indices)\n"
   ]
  },
  {
   "cell_type": "code",
   "execution_count": 14,
   "id": "8f569896-96e6-4e4a-9ded-b83dd47d9fea",
   "metadata": {},
   "outputs": [
    {
     "data": {
      "text/plain": [
       "(6128,)"
      ]
     },
     "execution_count": 14,
     "metadata": {},
     "output_type": "execute_result"
    }
   ],
   "source": [
    " np.array(label)[sampled_indices].shape"
   ]
  },
  {
   "cell_type": "code",
   "execution_count": 15,
   "id": "94ef096e-c3f4-4c01-9fe9-bbb2b5e6abd8",
   "metadata": {},
   "outputs": [
    {
     "data": {
      "text/plain": [
       "'/ccn2/u/thekej/models/3d_point_cloud/ocd/test_snippet_indices_150_ms.json'"
      ]
     },
     "execution_count": 15,
     "metadata": {},
     "output_type": "execute_result"
    }
   ],
   "source": [
    "import json\n",
    "# Using the sampled indices to get the corresponding True/False values from the original array\n",
    "sampled_values = np.array(indices)[sampled_indices]\n",
    "\n",
    "# Save the sampled values to a JSON file\n",
    "sampled_values_list = sampled_values.tolist()  # Convert numpy array to list for JSON serialization\n",
    "\n",
    "# Path to save the JSON file\n",
    "file_path = '/ccn2/u/thekej/models/3d_point_cloud/ocd/test_snippet_indices_150_ms.json'\n",
    "\n",
    "# Writing JSON data to a file\n",
    "with open(file_path, 'w') as file:\n",
    "    json.dump(sampled_values_list, file)\n",
    "\n",
    "file_path"
   ]
  },
  {
   "cell_type": "code",
   "execution_count": null,
   "id": "8ce7da7b-7d82-4c45-b7fb-b8dd4f837ae0",
   "metadata": {},
   "outputs": [],
   "source": []
  }
 ],
 "metadata": {
  "kernelspec": {
   "display_name": "Python 3 (ipykernel)",
   "language": "python",
   "name": "python3"
  },
  "language_info": {
   "codemirror_mode": {
    "name": "ipython",
    "version": 3
   },
   "file_extension": ".py",
   "mimetype": "text/x-python",
   "name": "python",
   "nbconvert_exporter": "python",
   "pygments_lexer": "ipython3",
   "version": "3.11.5"
  }
 },
 "nbformat": 4,
 "nbformat_minor": 5
}
