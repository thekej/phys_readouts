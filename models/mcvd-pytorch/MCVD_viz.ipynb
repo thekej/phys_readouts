{
 "cells": [
  {
   "cell_type": "code",
   "execution_count": null,
   "id": "7636673f",
   "metadata": {},
   "outputs": [],
   "source": [
    "%load_ext autoreload\n",
    "%autoreload 2\n",
    "import sys, os"
   ]
  },
  {
   "cell_type": "code",
   "execution_count": null,
   "id": "4c28d3ce",
   "metadata": {},
   "outputs": [],
   "source": [
    "import glob, os\n",
    "import mediapy as media\n",
    "import torch\n",
    "from torch.utils.data import DataLoader\n",
    "\n",
    "from load_model_from_ckpt import load_model, get_readout_sampler, init_samples\n",
    "from datasets import get_dataset, data_transform, inverse_data_transform\n",
    "from runners.ncsn_runner import conditioning_fn\n",
    "\n",
    "from os.path import expanduser\n",
    "home = expanduser(\"~\")\n",
    "\n",
    "device = torch.device('cuda') if torch.cuda.is_available() else torch.device('cpu')"
   ]
  },
  {
   "cell_type": "markdown",
   "id": "b7497708",
   "metadata": {},
   "source": [
    "# Load model checkpoint"
   ]
  },
  {
   "cell_type": "code",
   "execution_count": null,
   "id": "bed12d90",
   "metadata": {},
   "outputs": [],
   "source": [
    "model_path = '/ccn2/u/thekej/ucf10132_big192_288_4c4_unetm_spade/logs/'\n",
    "ckpt_path = glob.glob(os.path.join(model_path, \"checkpoint_*.pt\"))[0]\n",
    "    \n",
    "# load model\n",
    "scorenet, config = load_model(ckpt_path, device)\n",
    "# get sampler\n",
    "sampler = get_readout_sampler(config)"
   ]
  },
  {
   "cell_type": "code",
   "execution_count": null,
   "id": "dc8c5945",
   "metadata": {},
   "outputs": [],
   "source": [
    "print(device)\n",
    "print(ckpt_path)\n",
    "print(config)"
   ]
  },
  {
   "cell_type": "markdown",
   "id": "717769fc",
   "metadata": {},
   "source": [
    "# Load data"
   ]
  },
  {
   "cell_type": "code",
   "execution_count": null,
   "id": "ee908f0a",
   "metadata": {},
   "outputs": [],
   "source": [
    "from datasets.physion import PhysionDataset"
   ]
  },
  {
   "cell_type": "code",
   "execution_count": null,
   "id": "d2c505eb",
   "metadata": {},
   "outputs": [],
   "source": [
    "def get_dataset(config):\n",
    "    \n",
    "    frames_per_sample = 48\n",
    "    dataset = PhysionDataset('/ccn2/u/thekej/phys_readouts_mcvd_all/shard_0001.hdf5', \n",
    "                             frames_per_sample=frames_per_sample, \n",
    "                             image_size=config.data.image_size, train=False, random_time=True,\n",
    "                             random_horizontal_flip=False,\n",
    "                             complete=True,\n",
    "                             simulation=False) #change this\n",
    "\n",
    "    return dataset"
   ]
  },
  {
   "cell_type": "code",
   "execution_count": null,
   "id": "62234839",
   "metadata": {},
   "outputs": [],
   "source": [
    "def inverse_transform(config, X):\n",
    "    X = X.to('cpu')\n",
    "    if hasattr(config, 'image_mean'):\n",
    "        X = X + config.image_mean.to(X.device)[None, ...]\n",
    "\n",
    "    if config.data.logit_transform:\n",
    "        X = torch.sigmoid(X)\n",
    "    elif config.data.rescaled:\n",
    "        X = (X + 1.) / 2.\n",
    "    return torch.clamp(X, 0.0, 1.0)"
   ]
  },
  {
   "cell_type": "code",
   "execution_count": null,
   "id": "ed043f4b",
   "metadata": {},
   "outputs": [],
   "source": [
    "dataset = get_dataset(config)"
   ]
  },
  {
   "cell_type": "code",
   "execution_count": null,
   "id": "277c205a",
   "metadata": {},
   "outputs": [],
   "source": [
    "test_loader = DataLoader(dataset, batch_size=1, shuffle=False,#config.training.batch_size, shuffle=False,\n",
    "                         num_workers=config.data.num_workers, drop_last=True)\n",
    "test_iter = iter(test_loader)\n",
    "test_x, test_y = next(test_iter)\n",
    "print(test_x.shape)"
   ]
  },
  {
   "cell_type": "code",
   "execution_count": null,
   "id": "9cebee4b",
   "metadata": {},
   "outputs": [],
   "source": [
    "test_x = data_transform(config, test_x)\n",
    "\n",
    "real, cond, cond_mask = conditioning_fn(config, test_x, num_frames_pred=config.data.num_frames,\n",
    "                                        prob_mask_cond=getattr(config.data, 'prob_mask_cond', 0.0),\n",
    "                                        prob_mask_future=getattr(config.data, 'prob_mask_future', 0.0))\n",
    "print(real.shape, cond.shape)"
   ]
  },
  {
   "cell_type": "markdown",
   "id": "2d37ea28",
   "metadata": {},
   "source": [
    "# Load initial samples"
   ]
  },
  {
   "cell_type": "code",
   "execution_count": null,
   "id": "55bde034",
   "metadata": {},
   "outputs": [],
   "source": [
    "init = init_samples(len(real), config)"
   ]
  },
  {
   "cell_type": "code",
   "execution_count": null,
   "id": "9253a5ad",
   "metadata": {},
   "outputs": [],
   "source": [
    "i = 0\n",
    "print(init.shape, init[i].shape)\n",
    "media.show_images(init[i])"
   ]
  },
  {
   "cell_type": "markdown",
   "id": "47b62c71",
   "metadata": {},
   "source": [
    "# Predict"
   ]
  },
  {
   "cell_type": "code",
   "execution_count": null,
   "id": "5d2a372b",
   "metadata": {
    "scrolled": false
   },
   "outputs": [],
   "source": [
    "preds = []\n",
    "for i in range(10):\n",
    "    init = init_samples(len(real), config)\n",
    "    pred, gamma, beta, mid = sampler(init, scorenet, cond=cond, cond_mask=cond_mask, subsample=100, verbose=False)\n",
    "    #show_video(pred[0], config)\n",
    "    media.show_images(inverse_transform(config, pred[0][::3]))\n",
    "    cond = pred#inverse_transform(config, pred)"
   ]
  },
  {
   "cell_type": "code",
   "execution_count": null,
   "id": "7937cd9f",
   "metadata": {},
   "outputs": [],
   "source": [
    "def show_video(frames, config):\n",
    "    pred = inverse_transform(config, frames)\n",
    "    media.show_images(pred)"
   ]
  },
  {
   "cell_type": "code",
   "execution_count": null,
   "id": "f0f85ca1-3100-4d14-beeb-0b103ce4fcb7",
   "metadata": {},
   "outputs": [],
   "source": [
    "print(preds[0].shape)\n",
    "show_video(preds[0], config)"
   ]
  },
  {
   "cell_type": "code",
   "execution_count": null,
   "id": "da3432fa",
   "metadata": {},
   "outputs": [],
   "source": [
    "show_video(cond[30], config)"
   ]
  },
  {
   "cell_type": "code",
   "execution_count": null,
   "id": "d7d87903",
   "metadata": {},
   "outputs": [],
   "source": [
    "p = torch.stack(preds)\n",
    "print(preds[0].shape)\n",
    "p.shape"
   ]
  },
  {
   "cell_type": "code",
   "execution_count": null,
   "id": "b5753553",
   "metadata": {},
   "outputs": [],
   "source": [
    "import imageio\n",
    "import numpy as np\n",
    "\n",
    "\n",
    "for i in range(4):\n",
    "    # Create a list of image frames from the array\n",
    "    frames = inverse_transform(config, p[i])\n",
    "    media.show_images(frames.permute(0, 2, 3, 1))\n",
    "    frames = frames.numpy().transpose(0, 2, 3, 1)\n",
    "\n",
    "    # Save the frames as a GIF\n",
    "    imageio.mimsave('%d.gif'%i, frames)\n"
   ]
  },
  {
   "cell_type": "code",
   "execution_count": null,
   "id": "69780a73",
   "metadata": {},
   "outputs": [],
   "source": []
  }
 ],
 "metadata": {
  "kernelspec": {
   "display_name": "Python 3 (ipykernel)",
   "language": "python",
   "name": "python3"
  },
  "language_info": {
   "codemirror_mode": {
    "name": "ipython",
    "version": 3
   },
   "file_extension": ".py",
   "mimetype": "text/x-python",
   "name": "python",
   "nbconvert_exporter": "python",
   "pygments_lexer": "ipython3",
   "version": "3.8.15"
  }
 },
 "nbformat": 4,
 "nbformat_minor": 5
}
