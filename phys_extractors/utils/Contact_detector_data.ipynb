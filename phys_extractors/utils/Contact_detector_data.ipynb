{
 "cells": [
  {
   "cell_type": "code",
   "execution_count": 1,
   "id": "4bd49912-9916-4837-98d8-aeaacaf494f0",
   "metadata": {},
   "outputs": [],
   "source": [
    "import glob\n",
    "import h5py\n",
    "import numpy as np\n",
    "import os\n",
    "import tqdm\n",
    "\n",
    "from os import listdir\n",
    "from os.path import isfile, join"
   ]
  },
  {
   "cell_type": "code",
   "execution_count": 3,
   "id": "17f730b6-aefb-428f-8df0-516924eb0e02",
   "metadata": {},
   "outputs": [
    {
     "name": "stdout",
     "output_type": "stream",
     "text": [
      "<KeysViewHDF5 ['contacts', 'features', 'filenames', 'label', 'world_contacts']>\n"
     ]
    },
    {
     "ename": "KeyError",
     "evalue": "\"Unable to synchronously open object (object 'frame_labels' doesn't exist)\"",
     "output_type": "error",
     "traceback": [
      "\u001b[0;31m---------------------------------------------------------------------------\u001b[0m",
      "\u001b[0;31mKeyError\u001b[0m                                  Traceback (most recent call last)",
      "Cell \u001b[0;32mIn[3], line 7\u001b[0m\n\u001b[1;32m      5\u001b[0m features \u001b[38;5;241m=\u001b[39m hf[\u001b[38;5;124m'\u001b[39m\u001b[38;5;124mfeatures\u001b[39m\u001b[38;5;124m'\u001b[39m][:]\n\u001b[1;32m      6\u001b[0m contacts \u001b[38;5;241m=\u001b[39m hf[\u001b[38;5;124m'\u001b[39m\u001b[38;5;124mcontacts\u001b[39m\u001b[38;5;124m'\u001b[39m][:]\n\u001b[0;32m----> 7\u001b[0m frame_labels \u001b[38;5;241m=\u001b[39m \u001b[43mhf\u001b[49m\u001b[43m[\u001b[49m\u001b[38;5;124;43m'\u001b[39;49m\u001b[38;5;124;43mframe_labels\u001b[39;49m\u001b[38;5;124;43m'\u001b[39;49m\u001b[43m]\u001b[49m[:]\n",
      "File \u001b[0;32mh5py/_objects.pyx:54\u001b[0m, in \u001b[0;36mh5py._objects.with_phil.wrapper\u001b[0;34m()\u001b[0m\n",
      "File \u001b[0;32mh5py/_objects.pyx:55\u001b[0m, in \u001b[0;36mh5py._objects.with_phil.wrapper\u001b[0;34m()\u001b[0m\n",
      "File \u001b[0;32m/ccn2/u/thekej/miniconda3/lib/python3.11/site-packages/h5py/_hl/group.py:357\u001b[0m, in \u001b[0;36mGroup.__getitem__\u001b[0;34m(self, name)\u001b[0m\n\u001b[1;32m    355\u001b[0m         \u001b[38;5;28;01mraise\u001b[39;00m \u001b[38;5;167;01mValueError\u001b[39;00m(\u001b[38;5;124m\"\u001b[39m\u001b[38;5;124mInvalid HDF5 object reference\u001b[39m\u001b[38;5;124m\"\u001b[39m)\n\u001b[1;32m    356\u001b[0m \u001b[38;5;28;01melif\u001b[39;00m \u001b[38;5;28misinstance\u001b[39m(name, (\u001b[38;5;28mbytes\u001b[39m, \u001b[38;5;28mstr\u001b[39m)):\n\u001b[0;32m--> 357\u001b[0m     oid \u001b[38;5;241m=\u001b[39m \u001b[43mh5o\u001b[49m\u001b[38;5;241;43m.\u001b[39;49m\u001b[43mopen\u001b[49m\u001b[43m(\u001b[49m\u001b[38;5;28;43mself\u001b[39;49m\u001b[38;5;241;43m.\u001b[39;49m\u001b[43mid\u001b[49m\u001b[43m,\u001b[49m\u001b[43m \u001b[49m\u001b[38;5;28;43mself\u001b[39;49m\u001b[38;5;241;43m.\u001b[39;49m\u001b[43m_e\u001b[49m\u001b[43m(\u001b[49m\u001b[43mname\u001b[49m\u001b[43m)\u001b[49m\u001b[43m,\u001b[49m\u001b[43m \u001b[49m\u001b[43mlapl\u001b[49m\u001b[38;5;241;43m=\u001b[39;49m\u001b[38;5;28;43mself\u001b[39;49m\u001b[38;5;241;43m.\u001b[39;49m\u001b[43m_lapl\u001b[49m\u001b[43m)\u001b[49m\n\u001b[1;32m    358\u001b[0m \u001b[38;5;28;01melse\u001b[39;00m:\n\u001b[1;32m    359\u001b[0m     \u001b[38;5;28;01mraise\u001b[39;00m \u001b[38;5;167;01mTypeError\u001b[39;00m(\u001b[38;5;124m\"\u001b[39m\u001b[38;5;124mAccessing a group is done with bytes or str, \u001b[39m\u001b[38;5;124m\"\u001b[39m\n\u001b[1;32m    360\u001b[0m                     \u001b[38;5;124m\"\u001b[39m\u001b[38;5;124mnot \u001b[39m\u001b[38;5;132;01m{}\u001b[39;00m\u001b[38;5;124m\"\u001b[39m\u001b[38;5;241m.\u001b[39mformat(\u001b[38;5;28mtype\u001b[39m(name)))\n",
      "File \u001b[0;32mh5py/_objects.pyx:54\u001b[0m, in \u001b[0;36mh5py._objects.with_phil.wrapper\u001b[0;34m()\u001b[0m\n",
      "File \u001b[0;32mh5py/_objects.pyx:55\u001b[0m, in \u001b[0;36mh5py._objects.with_phil.wrapper\u001b[0;34m()\u001b[0m\n",
      "File \u001b[0;32mh5py/h5o.pyx:189\u001b[0m, in \u001b[0;36mh5py.h5o.open\u001b[0;34m()\u001b[0m\n",
      "\u001b[0;31mKeyError\u001b[0m: \"Unable to synchronously open object (object 'frame_labels' doesn't exist)\""
     ]
    }
   ],
   "source": [
    "with h5py.File('/ccn2/u/thekej/models/sgnn_physion/ocd/train_features.hdf5','r') as hf:\n",
    "    print(hf.keys())\n",
    "    filenames = [h.decode().split('/')[-1] for h in hf['filenames'][:]]\n",
    "    #features_tester = hf['features_tester'][:]\n",
    "    features = hf['features'][:]\n",
    "    contacts = hf['contacts'][:]\n",
    "    frame_labels = hf['frame_labels'][:]"
   ]
  },
  {
   "cell_type": "code",
   "execution_count": null,
   "id": "1ed5a0a6-bbd9-4bd5-8da0-af5537e588c1",
   "metadata": {},
   "outputs": [],
   "source": [
    "features.shape"
   ]
  },
  {
   "cell_type": "code",
   "execution_count": 7,
   "id": "4932f8b4-a88a-4316-8162-8f866719302d",
   "metadata": {},
   "outputs": [],
   "source": [
    "with h5py.File('/ccn2/u/thekej/contact_data/train_contact_data.hdf5','r') as hf:\n",
    "    label_contact_list = hf['label'][:]\n",
    "    contacts_contact_list = hf['contacts'][:]  \n",
    "    lengths_contact_list = hf['lengths'][:]\n",
    "    filenames_contact_list = [d.decode() for d in hf['filenames'][:]]"
   ]
  },
  {
   "cell_type": "code",
   "execution_count": 8,
   "id": "ce7ffeaf-3422-4894-b849-8690734b242f",
   "metadata": {},
   "outputs": [],
   "source": [
    "label_new = []\n",
    "filenames_new = []\n",
    "features_new = []"
   ]
  },
  {
   "cell_type": "code",
   "execution_count": 9,
   "id": "045c9395-b876-41f4-9e36-6025dbd9015e",
   "metadata": {},
   "outputs": [],
   "source": [
    "for i, feats in enumerate(features_tester):\n",
    "    # 1 frame, 3 frames, 7 frames,\n",
    "    # 40, 120, 280\n",
    "    # 1, 12, 28\n",
    "    n = 28  # Number of contiguous frames to sample\n",
    "    filename = filenames[i]\n",
    "\n",
    "    if filename in filenames_contact_list:\n",
    "        test_contact_index = filenames_contact_list.index(filename)\n",
    "        length = lengths_contact_list[test_contact_index]\n",
    "        lbl_ctct = label_contact_list[test_contact_index]\n",
    "        total_frames = min(length - 45, 225 - 45)\n",
    "        if total_frames - n < 0:\n",
    "            continue\n",
    "        # Determine the maximum starting point\n",
    "        for _ in range(10):\n",
    "            filenames_new += [filename]\n",
    "            max_start = total_frames - n\n",
    "            # Randomly select a starting frame\n",
    "            start_frame = np.random.randint(0, max_start + 1)\n",
    "            # Extract n contiguous frames\n",
    "            sampled_frames = feats[start_frame:start_frame + n]\n",
    "            features_new += [sampled_frames]\n",
    "            label_new += [lbl_ctct[start_frame:start_frame + n]]"
   ]
  },
  {
   "cell_type": "code",
   "execution_count": 15,
   "id": "87bcc989-d2fb-4172-9752-5306e2ac1b3b",
   "metadata": {},
   "outputs": [
    {
     "name": "stdout",
     "output_type": "stream",
     "text": [
      "save 1\n"
     ]
    }
   ],
   "source": [
    "dt = h5py.special_dtype(vlen=str)\n",
    "\n",
    "print('save 1')\n",
    "with h5py.File('/ccn2/u/thekej/contact_data/sgnn_tester_feats_train_7_frame.hdf5','w') as hf:\n",
    "    hf.create_dataset(\"label\", data=label_new)\n",
    "    hf.create_dataset(\"features\", data=np.stack(features_new))\n",
    "    hf.create_dataset(\"filenames\", data=filenames_new, dtype=dt)"
   ]
  },
  {
   "cell_type": "code",
   "execution_count": 16,
   "id": "6211a8de-c745-4f37-8466-57b5c584c23b",
   "metadata": {},
   "outputs": [
    {
     "data": {
      "text/plain": [
       "(55940, 28, 12, 512)"
      ]
     },
     "execution_count": 16,
     "metadata": {},
     "output_type": "execute_result"
    }
   ],
   "source": [
    "np.stack(features_new).shape"
   ]
  },
  {
   "cell_type": "code",
   "execution_count": 17,
   "id": "eb72c3ff-7ddc-433b-8832-b9f041b1d17f",
   "metadata": {},
   "outputs": [
    {
     "data": {
      "text/plain": [
       "55940"
      ]
     },
     "execution_count": 17,
     "metadata": {},
     "output_type": "execute_result"
    }
   ],
   "source": [
    "len(filenames_new)"
   ]
  },
  {
   "cell_type": "code",
   "execution_count": 28,
   "id": "cb10faeb-dcc3-4e8c-b257-cca4346d9a64",
   "metadata": {},
   "outputs": [],
   "source": [
    "c = 0\n",
    "for i in range(len(label_new)):\n",
    "    if sum(label_new[i]) > 0:\n",
    "        c+=1"
   ]
  },
  {
   "cell_type": "code",
   "execution_count": 29,
   "id": "ccc5ac51-ac64-4eaf-9c7c-dc95eaa61cb8",
   "metadata": {},
   "outputs": [
    {
     "data": {
      "text/plain": [
       "8388"
      ]
     },
     "execution_count": 29,
     "metadata": {},
     "output_type": "execute_result"
    }
   ],
   "source": [
    "c"
   ]
  },
  {
   "cell_type": "code",
   "execution_count": null,
   "id": "631cea34-9ce2-4a43-a1fe-3e31c77f4766",
   "metadata": {},
   "outputs": [],
   "source": []
  }
 ],
 "metadata": {
  "kernelspec": {
   "display_name": "Python 3 (ipykernel)",
   "language": "python",
   "name": "python3"
  },
  "language_info": {
   "codemirror_mode": {
    "name": "ipython",
    "version": 3
   },
   "file_extension": ".py",
   "mimetype": "text/x-python",
   "name": "python",
   "nbconvert_exporter": "python",
   "pygments_lexer": "ipython3",
   "version": "3.11.5"
  }
 },
 "nbformat": 4,
 "nbformat_minor": 5
}
